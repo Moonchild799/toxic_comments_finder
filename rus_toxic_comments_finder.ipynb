{
 "cells": [
  {
   "cell_type": "markdown",
   "metadata": {},
   "source": [
    "# Проект для «Викишоп»"
   ]
  },
  {
   "cell_type": "markdown",
   "metadata": {},
   "source": [
    "# Содержание\n",
    "\n",
    "- [Введение](#intro)\n",
    "- [Подготовка](#preparing)\n",
    "  - [Лемматизация](#lemma)\n",
    "  - [Выводы по подготовке](#prep_conclusion)\n",
    "- [Обучение](#fit)\n",
    "  - [Логистическая регрессия](#log_reg)\n",
    "  - [Древо решений](#dt)\n",
    "  - [Тестовая выборка](#test)\n",
    "- [Вывод](#conclusion)"
   ]
  },
  {
   "cell_type": "markdown",
   "metadata": {},
   "source": [
    "<a id='intro'></a>\n",
    "# Введение\n",
    "\n",
    "Интернет-магазин «Викишоп» запускает новый сервис. Теперь пользователи могут редактировать и дополнять описания товаров, как в вики-сообществах. То есть клиенты предлагают свои правки и комментируют изменения других. Магазину нужен инструмент, который будет искать токсичные комментарии и отправлять их на модерацию. \n",
    "\n",
    "Нам предоставили данные с комментариями пользователей интернет-магазина. В них присутствует разметка о токсичности комментария. Используя эти данные нам необходимо создать модель которая сможет классифицировать комментария на позитивные и негативные. Модель будет считаться успешной если мы получим метрику качества F1 больше 0.75 на тестовых данных.\n",
    "\n",
    "Прочитаем данные, изучим их и подготовим для использования с моделями машинного обучения. Так как предоставлен только один файл, нам нужно будет разбить данные на выборки для обучения и тестирования. Обучим несколько моделей, сравним их на тренировочных данных, выберем лучшую и посмотрим как она справится с тестовой выборкой."
   ]
  },
  {
   "cell_type": "markdown",
   "metadata": {},
   "source": [
    "<a id='preparing'></a>\n",
    "## Подготовка"
   ]
  },
  {
   "cell_type": "markdown",
   "metadata": {},
   "source": [
    "**Импортируем необходимые библиотеки**"
   ]
  },
  {
   "cell_type": "code",
   "execution_count": 1,
   "metadata": {},
   "outputs": [],
   "source": [
    "import os\n",
    "import pandas as pd\n",
    "import numpy as np\n",
    "import warnings\n",
    "\n",
    "import nltk\n",
    "from nltk.corpus import stopwords as nltk_stopwords, wordnet\n",
    "from nltk.stem import WordNetLemmatizer\n",
    "import re\n",
    "\n",
    "\n",
    "from sklearn.model_selection import train_test_split, KFold, GridSearchCV\n",
    "from sklearn.feature_extraction.text import TfidfVectorizer\n",
    "from sklearn.metrics import f1_score\n",
    "from sklearn.pipeline import Pipeline\n",
    "from sklearn.linear_model import LogisticRegression\n",
    "from sklearn.tree import DecisionTreeClassifier"
   ]
  },
  {
   "cell_type": "markdown",
   "metadata": {},
   "source": [
    "**Читаем файл с предоставленными данными**"
   ]
  },
  {
   "cell_type": "code",
   "execution_count": 2,
   "metadata": {},
   "outputs": [],
   "source": [
    "pth1 = 'toxic_comments.csv'\n",
    "pth2 = '/datasets/toxic_comments.csv'\n",
    "\n",
    "if os.path.exists(pth1):\n",
    "    data = pd.read_csv(pth1)\n",
    "elif os.path.exists(pth2):\n",
    "    data = pd.read_csv(pth2)\n",
    "else:\n",
    "    print('Something is wrong')"
   ]
  },
  {
   "cell_type": "markdown",
   "metadata": {},
   "source": [
    "**Основная информация о датафрейме**"
   ]
  },
  {
   "cell_type": "code",
   "execution_count": 3,
   "metadata": {},
   "outputs": [
    {
     "name": "stdout",
     "output_type": "stream",
     "text": [
      "<class 'pandas.core.frame.DataFrame'>\n",
      "RangeIndex: 159292 entries, 0 to 159291\n",
      "Data columns (total 3 columns):\n",
      " #   Column      Non-Null Count   Dtype \n",
      "---  ------      --------------   ----- \n",
      " 0   Unnamed: 0  159292 non-null  int64 \n",
      " 1   text        159292 non-null  object\n",
      " 2   toxic       159292 non-null  int64 \n",
      "dtypes: int64(2), object(1)\n",
      "memory usage: 3.6+ MB\n"
     ]
    }
   ],
   "source": [
    "data.info()"
   ]
  },
  {
   "cell_type": "code",
   "execution_count": 4,
   "metadata": {
    "scrolled": true
   },
   "outputs": [
    {
     "data": {
      "text/html": [
       "<div>\n",
       "<style scoped>\n",
       "    .dataframe tbody tr th:only-of-type {\n",
       "        vertical-align: middle;\n",
       "    }\n",
       "\n",
       "    .dataframe tbody tr th {\n",
       "        vertical-align: top;\n",
       "    }\n",
       "\n",
       "    .dataframe thead th {\n",
       "        text-align: right;\n",
       "    }\n",
       "</style>\n",
       "<table border=\"1\" class=\"dataframe\">\n",
       "  <thead>\n",
       "    <tr style=\"text-align: right;\">\n",
       "      <th></th>\n",
       "      <th>Unnamed: 0</th>\n",
       "      <th>text</th>\n",
       "      <th>toxic</th>\n",
       "    </tr>\n",
       "  </thead>\n",
       "  <tbody>\n",
       "    <tr>\n",
       "      <th>0</th>\n",
       "      <td>0</td>\n",
       "      <td>Explanation\\nWhy the edits made under my usern...</td>\n",
       "      <td>0</td>\n",
       "    </tr>\n",
       "    <tr>\n",
       "      <th>1</th>\n",
       "      <td>1</td>\n",
       "      <td>D'aww! He matches this background colour I'm s...</td>\n",
       "      <td>0</td>\n",
       "    </tr>\n",
       "    <tr>\n",
       "      <th>2</th>\n",
       "      <td>2</td>\n",
       "      <td>Hey man, I'm really not trying to edit war. It...</td>\n",
       "      <td>0</td>\n",
       "    </tr>\n",
       "    <tr>\n",
       "      <th>3</th>\n",
       "      <td>3</td>\n",
       "      <td>\"\\nMore\\nI can't make any real suggestions on ...</td>\n",
       "      <td>0</td>\n",
       "    </tr>\n",
       "    <tr>\n",
       "      <th>4</th>\n",
       "      <td>4</td>\n",
       "      <td>You, sir, are my hero. Any chance you remember...</td>\n",
       "      <td>0</td>\n",
       "    </tr>\n",
       "    <tr>\n",
       "      <th>5</th>\n",
       "      <td>5</td>\n",
       "      <td>\"\\n\\nCongratulations from me as well, use the ...</td>\n",
       "      <td>0</td>\n",
       "    </tr>\n",
       "    <tr>\n",
       "      <th>6</th>\n",
       "      <td>6</td>\n",
       "      <td>COCKSUCKER BEFORE YOU PISS AROUND ON MY WORK</td>\n",
       "      <td>1</td>\n",
       "    </tr>\n",
       "    <tr>\n",
       "      <th>7</th>\n",
       "      <td>7</td>\n",
       "      <td>Your vandalism to the Matt Shirvington article...</td>\n",
       "      <td>0</td>\n",
       "    </tr>\n",
       "    <tr>\n",
       "      <th>8</th>\n",
       "      <td>8</td>\n",
       "      <td>Sorry if the word 'nonsense' was offensive to ...</td>\n",
       "      <td>0</td>\n",
       "    </tr>\n",
       "    <tr>\n",
       "      <th>9</th>\n",
       "      <td>9</td>\n",
       "      <td>alignment on this subject and which are contra...</td>\n",
       "      <td>0</td>\n",
       "    </tr>\n",
       "  </tbody>\n",
       "</table>\n",
       "</div>"
      ],
      "text/plain": [
       "   Unnamed: 0                                               text  toxic\n",
       "0           0  Explanation\\nWhy the edits made under my usern...      0\n",
       "1           1  D'aww! He matches this background colour I'm s...      0\n",
       "2           2  Hey man, I'm really not trying to edit war. It...      0\n",
       "3           3  \"\\nMore\\nI can't make any real suggestions on ...      0\n",
       "4           4  You, sir, are my hero. Any chance you remember...      0\n",
       "5           5  \"\\n\\nCongratulations from me as well, use the ...      0\n",
       "6           6       COCKSUCKER BEFORE YOU PISS AROUND ON MY WORK      1\n",
       "7           7  Your vandalism to the Matt Shirvington article...      0\n",
       "8           8  Sorry if the word 'nonsense' was offensive to ...      0\n",
       "9           9  alignment on this subject and which are contra...      0"
      ]
     },
     "execution_count": 4,
     "metadata": {},
     "output_type": "execute_result"
    }
   ],
   "source": [
    "data.head(10)"
   ]
  },
  {
   "cell_type": "markdown",
   "metadata": {},
   "source": [
    "В данных находится 159292 строки (коментарии). Присутсвует колонка `Unnamed: 0` которая нам не понадобится, можем её удалять. Но сначала убедимся что дубликаты и пропущеные значения отсутсвуют.\n",
    "\n",
    "**Дубликаты, пропуски**"
   ]
  },
  {
   "cell_type": "code",
   "execution_count": 5,
   "metadata": {},
   "outputs": [
    {
     "data": {
      "text/plain": [
       "0"
      ]
     },
     "execution_count": 5,
     "metadata": {},
     "output_type": "execute_result"
    }
   ],
   "source": [
    "data.duplicated().sum()"
   ]
  },
  {
   "cell_type": "code",
   "execution_count": 6,
   "metadata": {},
   "outputs": [
    {
     "data": {
      "text/plain": [
       "Unnamed: 0    0\n",
       "text          0\n",
       "toxic         0\n",
       "dtype: int64"
      ]
     },
     "execution_count": 6,
     "metadata": {},
     "output_type": "execute_result"
    }
   ],
   "source": [
    "data.isna().sum()"
   ]
  },
  {
   "cell_type": "markdown",
   "metadata": {},
   "source": [
    "Дубликаты и пропуски отсутсвуют.\n",
    "\n",
    "**Удаление лишних данных**"
   ]
  },
  {
   "cell_type": "code",
   "execution_count": 7,
   "metadata": {},
   "outputs": [],
   "source": [
    "data = data.drop(['Unnamed: 0'], axis=1).reset_index(drop=True)"
   ]
  },
  {
   "cell_type": "code",
   "execution_count": 8,
   "metadata": {},
   "outputs": [
    {
     "name": "stdout",
     "output_type": "stream",
     "text": [
      "<class 'pandas.core.frame.DataFrame'>\n",
      "RangeIndex: 159292 entries, 0 to 159291\n",
      "Data columns (total 2 columns):\n",
      " #   Column  Non-Null Count   Dtype \n",
      "---  ------  --------------   ----- \n",
      " 0   text    159292 non-null  object\n",
      " 1   toxic   159292 non-null  int64 \n",
      "dtypes: int64(1), object(1)\n",
      "memory usage: 2.4+ MB\n"
     ]
    }
   ],
   "source": [
    "data.info()"
   ]
  },
  {
   "cell_type": "markdown",
   "metadata": {},
   "source": [
    "Колонку удалили, теперь в нашем распоряжении две колонки - одна с текстом комментария, вторая с маркером токсичности."
   ]
  },
  {
   "cell_type": "markdown",
   "metadata": {},
   "source": [
    "Посмотрим на баланс классов."
   ]
  },
  {
   "cell_type": "code",
   "execution_count": 9,
   "metadata": {},
   "outputs": [
    {
     "name": "stdout",
     "output_type": "stream",
     "text": [
      "0    0.898388\n",
      "1    0.101612\n",
      "Name: toxic, dtype: float64\n"
     ]
    }
   ],
   "source": [
    "frequency = data['toxic'].value_counts(normalize=True)\n",
    "print(frequency)"
   ]
  },
  {
   "cell_type": "markdown",
   "metadata": {},
   "source": [
    "Присутсвует небаланс классов. 90% - не токсичные комментарии и 10% - токсичные."
   ]
  },
  {
   "cell_type": "markdown",
   "metadata": {},
   "source": [
    "<a id='lemma'></a>\n",
    "### Лемматизация\n",
    "\n",
    "Нам нужно обработать текст прежде чем обучать модели. Напишем фукцию для очитки текста от лишних символов, приведём текст к одному регистру, а так же приведём слова к их изначальной форме. Для лемматизации будем использоваить библиотеку Mystem."
   ]
  },
  {
   "cell_type": "code",
   "execution_count": 10,
   "metadata": {
    "scrolled": true
   },
   "outputs": [
    {
     "name": "stderr",
     "output_type": "stream",
     "text": [
      "[nltk_data] Downloading package averaged_perceptron_tagger to\n",
      "[nltk_data]     /home/jovyan/nltk_data...\n",
      "[nltk_data]   Package averaged_perceptron_tagger is already up-to-\n",
      "[nltk_data]       date!\n"
     ]
    },
    {
     "data": {
      "text/plain": [
       "True"
      ]
     },
     "execution_count": 10,
     "metadata": {},
     "output_type": "execute_result"
    }
   ],
   "source": [
    "nltk.download('averaged_perceptron_tagger')"
   ]
  },
  {
   "cell_type": "code",
   "execution_count": 11,
   "metadata": {},
   "outputs": [],
   "source": [
    "def get_wordnet_pos(treebank_tag):\n",
    "    if treebank_tag.startswith('J'):\n",
    "        return wordnet.ADJ\n",
    "    elif treebank_tag.startswith('V'):\n",
    "        return wordnet.VERB\n",
    "    elif treebank_tag.startswith('N'):\n",
    "        return wordnet.NOUN\n",
    "    elif treebank_tag.startswith('R'):\n",
    "        return wordnet.ADV\n",
    "    else:\n",
    "        return wordnet.NOUN\n",
    "\n",
    "def preprocess_text(text):\n",
    "    text = re.sub(r'[^\\w\\s]', '', text)\n",
    "    text = text.lower()\n",
    "    lemmatizer = WordNetLemmatizer()\n",
    "    words = nltk.word_tokenize(text)\n",
    "    pos_tags = nltk.pos_tag(words)\n",
    "    lemmatized_words = [lemmatizer.lemmatize(word, get_wordnet_pos(tag)) for word, tag in pos_tags]\n",
    "    return ' '.join(lemmatized_words)"
   ]
  },
  {
   "cell_type": "code",
   "execution_count": 12,
   "metadata": {},
   "outputs": [
    {
     "name": "stdout",
     "output_type": "stream",
     "text": [
      "CPU times: user 7min 1s, sys: 2.25 s, total: 7min 4s\n",
      "Wall time: 7min 4s\n"
     ]
    }
   ],
   "source": [
    "%%time\n",
    "\n",
    "data['text'] = data['text'].apply(preprocess_text)"
   ]
  },
  {
   "cell_type": "code",
   "execution_count": 13,
   "metadata": {},
   "outputs": [
    {
     "data": {
      "text/html": [
       "<div>\n",
       "<style scoped>\n",
       "    .dataframe tbody tr th:only-of-type {\n",
       "        vertical-align: middle;\n",
       "    }\n",
       "\n",
       "    .dataframe tbody tr th {\n",
       "        vertical-align: top;\n",
       "    }\n",
       "\n",
       "    .dataframe thead th {\n",
       "        text-align: right;\n",
       "    }\n",
       "</style>\n",
       "<table border=\"1\" class=\"dataframe\">\n",
       "  <thead>\n",
       "    <tr style=\"text-align: right;\">\n",
       "      <th></th>\n",
       "      <th>text</th>\n",
       "      <th>toxic</th>\n",
       "    </tr>\n",
       "  </thead>\n",
       "  <tbody>\n",
       "    <tr>\n",
       "      <th>0</th>\n",
       "      <td>explanation why the edits make under my userna...</td>\n",
       "      <td>0</td>\n",
       "    </tr>\n",
       "    <tr>\n",
       "      <th>1</th>\n",
       "      <td>daww he match this background colour im seemin...</td>\n",
       "      <td>0</td>\n",
       "    </tr>\n",
       "    <tr>\n",
       "      <th>2</th>\n",
       "      <td>hey man im really not try to edit war it just ...</td>\n",
       "      <td>0</td>\n",
       "    </tr>\n",
       "    <tr>\n",
       "      <th>3</th>\n",
       "      <td>more i cant make any real suggestion on improv...</td>\n",
       "      <td>0</td>\n",
       "    </tr>\n",
       "    <tr>\n",
       "      <th>4</th>\n",
       "      <td>you sir be my hero any chance you remember wha...</td>\n",
       "      <td>0</td>\n",
       "    </tr>\n",
       "    <tr>\n",
       "      <th>5</th>\n",
       "      <td>congratulation from me a well use the tool wel...</td>\n",
       "      <td>0</td>\n",
       "    </tr>\n",
       "    <tr>\n",
       "      <th>6</th>\n",
       "      <td>cocksucker before you piss around on my work</td>\n",
       "      <td>1</td>\n",
       "    </tr>\n",
       "    <tr>\n",
       "      <th>7</th>\n",
       "      <td>your vandalism to the matt shirvington article...</td>\n",
       "      <td>0</td>\n",
       "    </tr>\n",
       "    <tr>\n",
       "      <th>8</th>\n",
       "      <td>sorry if the word nonsense be offensive to you...</td>\n",
       "      <td>0</td>\n",
       "    </tr>\n",
       "    <tr>\n",
       "      <th>9</th>\n",
       "      <td>alignment on this subject and which be contrar...</td>\n",
       "      <td>0</td>\n",
       "    </tr>\n",
       "  </tbody>\n",
       "</table>\n",
       "</div>"
      ],
      "text/plain": [
       "                                                text  toxic\n",
       "0  explanation why the edits make under my userna...      0\n",
       "1  daww he match this background colour im seemin...      0\n",
       "2  hey man im really not try to edit war it just ...      0\n",
       "3  more i cant make any real suggestion on improv...      0\n",
       "4  you sir be my hero any chance you remember wha...      0\n",
       "5  congratulation from me a well use the tool wel...      0\n",
       "6       cocksucker before you piss around on my work      1\n",
       "7  your vandalism to the matt shirvington article...      0\n",
       "8  sorry if the word nonsense be offensive to you...      0\n",
       "9  alignment on this subject and which be contrar...      0"
      ]
     },
     "execution_count": 13,
     "metadata": {},
     "output_type": "execute_result"
    }
   ],
   "source": [
    "data.head(10)"
   ]
  },
  {
   "cell_type": "markdown",
   "metadata": {},
   "source": [
    "Обработку теста завершили, приступим к получению выборок. Разобьём данные в соотношении 80%/20% - тренировочная и тестовая выборка соответсвенно."
   ]
  },
  {
   "cell_type": "code",
   "execution_count": 14,
   "metadata": {},
   "outputs": [],
   "source": [
    "RANDOM_STATE = 12345"
   ]
  },
  {
   "cell_type": "code",
   "execution_count": 15,
   "metadata": {},
   "outputs": [],
   "source": [
    "features = data['text']\n",
    "target = data['toxic']\n",
    "\n",
    "features_train, features_test, target_train, target_test = train_test_split(features,\n",
    "                                                                            target,\n",
    "                                                                            test_size=0.2,\n",
    "                                                                            random_state=RANDOM_STATE)"
   ]
  },
  {
   "cell_type": "markdown",
   "metadata": {},
   "source": [
    "<a id='prep_conclusion'></a>\n",
    "### Выводы по подготовке\n",
    "\n",
    "Изучили предоставленные данные. Пропусков и дубликатов в них нет. Удалили лишний столбец который предположительно содержал индексы комментарий. Произвели очистку текста и лемматизацию. После этого сделали разбику на две выборки, тренировочную и тестовую в соотношении 80%/20%. Данные готовы для работы с моделями машинного обучения."
   ]
  },
  {
   "cell_type": "markdown",
   "metadata": {},
   "source": [
    "<a id='fit'></a>\n",
    "## Обучение"
   ]
  },
  {
   "cell_type": "code",
   "execution_count": 17,
   "metadata": {},
   "outputs": [],
   "source": [
    "folds = KFold(n_splits = 5, shuffle = True, random_state = RANDOM_STATE)"
   ]
  },
  {
   "cell_type": "code",
   "execution_count": 18,
   "metadata": {},
   "outputs": [
    {
     "name": "stderr",
     "output_type": "stream",
     "text": [
      "[nltk_data] Downloading package stopwords to /home/jovyan/nltk_data...\n",
      "[nltk_data]   Package stopwords is already up-to-date!\n"
     ]
    }
   ],
   "source": [
    "nltk.download('stopwords')\n",
    "stopwords = set(nltk_stopwords.words('english'))"
   ]
  },
  {
   "cell_type": "markdown",
   "metadata": {},
   "source": [
    "<a id='log_reg'></a>\n",
    "### Логистическая регрессия\n",
    "\n",
    "Подберем параметры для логистической регрессии с помощью кросс-валидации GridSearchCV. Так же будем делать TF-IDF векторизацию, пропишем её в pipeline."
   ]
  },
  {
   "cell_type": "code",
   "execution_count": 19,
   "metadata": {},
   "outputs": [],
   "source": [
    "pipeline_lr = Pipeline([\n",
    "    ('tfidf', TfidfVectorizer(max_features=5000, stop_words=stopwords)),\n",
    "    ('lr', LogisticRegression(random_state=RANDOM_STATE, max_iter=2000))\n",
    "])"
   ]
  },
  {
   "cell_type": "code",
   "execution_count": 20,
   "metadata": {},
   "outputs": [
    {
     "name": "stdout",
     "output_type": "stream",
     "text": [
      "Best Parameters: {'lr__C': 10, 'lr__class_weight': None, 'lr__solver': 'lbfgs'}\n",
      "Best F1 on training data: 0.7611707246445614\n",
      "CPU times: user 6min 4s, sys: 2.14 s, total: 6min 7s\n",
      "Wall time: 6min 7s\n"
     ]
    }
   ],
   "source": [
    "%%time\n",
    "\n",
    "param_grid_lr = {\n",
    "                 'lr__class_weight': [None, 'balanced'],\n",
    "                 'lr__solver': ['lbfgs', 'liblinear'],\n",
    "                 'lr__C': [0.1, 1, 10]\n",
    "                }\n",
    "\n",
    "grid_search_lr = GridSearchCV(pipeline_lr, param_grid_lr, cv=folds, scoring='f1')\n",
    "\n",
    "grid_search_lr.fit(features_train, target_train)\n",
    "\n",
    "best_params_lr = grid_search_lr.best_params_\n",
    "best_f1_lr = grid_search_lr.best_score_\n",
    "best_lr_model = grid_search_lr.best_estimator_\n",
    "\n",
    "print(\"Best Parameters:\", best_params_lr)\n",
    "print(\"Best F1 on training data:\", best_f1_lr)"
   ]
  },
  {
   "cell_type": "markdown",
   "metadata": {},
   "source": [
    "Параметры подобрали и сохранили лучшую модель. На тренировочных данных получили **F1 = 0.761**."
   ]
  },
  {
   "cell_type": "markdown",
   "metadata": {},
   "source": [
    "<a id='dt'></a>\n",
    "### Древо решений\n",
    "\n",
    "Подберем параметры для древа решений с помощью кросс-валидации GridSearchCV. Так же будем делать TF-IDF векторизацию, пропишем её в pipeline."
   ]
  },
  {
   "cell_type": "code",
   "execution_count": 22,
   "metadata": {},
   "outputs": [],
   "source": [
    "pipeline_dt = Pipeline([\n",
    "    ('tfidf', TfidfVectorizer(max_features=5000, stop_words=stopwords)),\n",
    "    ('dt', DecisionTreeClassifier(random_state=RANDOM_STATE))\n",
    "])"
   ]
  },
  {
   "cell_type": "code",
   "execution_count": 23,
   "metadata": {},
   "outputs": [
    {
     "name": "stdout",
     "output_type": "stream",
     "text": [
      "Best Parameters for Decision Tree: {'dt__class_weight': None}\n",
      "Best F1 for Decision Tree: 0.6850131015995525\n",
      "CPU times: user 19min 28s, sys: 880 ms, total: 19min 29s\n",
      "Wall time: 19min 29s\n"
     ]
    }
   ],
   "source": [
    "%%time\n",
    "\n",
    "param_grid_dt = {\n",
    "                 'dt__class_weight': [None, 'balanced'],\n",
    "                }\n",
    "\n",
    "grid_search_dt = GridSearchCV(pipeline_dt, param_grid_dt, cv=folds, scoring='f1')\n",
    "\n",
    "grid_search_dt.fit(features_train, target_train)\n",
    "\n",
    "best_params_dt = grid_search_dt.best_params_\n",
    "best_f1_dt = grid_search_dt.best_score_\n",
    "\n",
    "print(\"Best Parameters for Decision Tree:\", best_params_dt)\n",
    "print(\"Best F1 for Decision Tree:\", best_f1_dt)"
   ]
  },
  {
   "cell_type": "markdown",
   "metadata": {},
   "source": [
    "Параметры подобрали и сохранили лучшую модель. На тренировочных данных получили **F1 = 0.685**."
   ]
  },
  {
   "cell_type": "markdown",
   "metadata": {},
   "source": [
    "<a id='test'></a>\n",
    "### Тестовая выборка\n",
    "\n",
    "Обучили 2 модели, из них лучший результат на тренировочных данных показала логистическая регрессия. Посмотрим как она справится с тестовой выборкой."
   ]
  },
  {
   "cell_type": "code",
   "execution_count": 25,
   "metadata": {},
   "outputs": [
    {
     "name": "stdout",
     "output_type": "stream",
     "text": [
      "F1 on training data:  0.7659426585577759\n"
     ]
    }
   ],
   "source": [
    "predictions = best_lr_model.predict(features_test)\n",
    "f1_test = f1_score(target_test, predictions)\n",
    "print('F1 on training data: ', f1_test)"
   ]
  },
  {
   "cell_type": "markdown",
   "metadata": {},
   "source": [
    "Получили **F1 = 0.766** на тестовой выборке, данных результат нас устраивает."
   ]
  },
  {
   "cell_type": "markdown",
   "metadata": {},
   "source": [
    "<a id='conclusion'></a>\n",
    "## Выводы"
   ]
  },
  {
   "cell_type": "code",
   "execution_count": 26,
   "metadata": {},
   "outputs": [
    {
     "data": {
      "text/html": [
       "<div>\n",
       "<style scoped>\n",
       "    .dataframe tbody tr th:only-of-type {\n",
       "        vertical-align: middle;\n",
       "    }\n",
       "\n",
       "    .dataframe tbody tr th {\n",
       "        vertical-align: top;\n",
       "    }\n",
       "\n",
       "    .dataframe thead th {\n",
       "        text-align: right;\n",
       "    }\n",
       "</style>\n",
       "<table border=\"1\" class=\"dataframe\">\n",
       "  <thead>\n",
       "    <tr style=\"text-align: right;\">\n",
       "      <th></th>\n",
       "      <th>Модель</th>\n",
       "      <th>F1 на тренировочный данных</th>\n",
       "      <th>F1 на тестовых данных</th>\n",
       "    </tr>\n",
       "  </thead>\n",
       "  <tbody>\n",
       "    <tr>\n",
       "      <th>0</th>\n",
       "      <td>Логистическа регрессия</td>\n",
       "      <td>0.761171</td>\n",
       "      <td>0.765943</td>\n",
       "    </tr>\n",
       "    <tr>\n",
       "      <th>1</th>\n",
       "      <td>Древо решений</td>\n",
       "      <td>0.685013</td>\n",
       "      <td>-</td>\n",
       "    </tr>\n",
       "  </tbody>\n",
       "</table>\n",
       "</div>"
      ],
      "text/plain": [
       "                   Модель  F1 на тренировочный данных F1 на тестовых данных\n",
       "0  Логистическа регрессия                    0.761171              0.765943\n",
       "1           Древо решений                    0.685013                     -"
      ]
     },
     "metadata": {},
     "output_type": "display_data"
    }
   ],
   "source": [
    "chart_data = [\n",
    "              [\"Логистическа регрессия\", best_f1_lr, f1_test],\n",
    "              [\"Древо решений\", best_f1_dt, \"-\"],\n",
    "]\n",
    "\n",
    "headers = [\"Модель\", \"F1 на тренировочный данных\", \"F1 на тестовых данных\"]\n",
    "\n",
    "chart = pd.DataFrame(chart_data, columns=headers)\n",
    "\n",
    "display(chart)"
   ]
  },
  {
   "cell_type": "markdown",
   "metadata": {},
   "source": [
    "Нам необходимо было создать модель машинного обучения которая сможет классифицировать комментарии пользователей интернет-магазина на токсичные и нет опираясь на метрику качества F1 на тестовой выборке. Нам удалось достич этой цели, мы получили результат **F1 = 0.766** на тестовой выборке. В качестве модели использовалась логистическая регрессия.\n",
    "\n",
    "Перед этим мы изучили предоставленные нам данные. Из ним мы удалили не нужную нам колонку содержащую предположительно id сообщения. В дальнейшем нам необходимо было выполнить очистку текста и лемматизацию. Использовалась библиотека WordNetLemmatizer для этих целей, а также stopwords из nltk. Получив обработанный текст мы произвели разделение данных на выборки в соотнишении 80%/20% - тренировочная и тестовая соответсвенно. Одна нам необходима для обучения моделей, а вторая для конечного тестирования. Подбор параметров мы выполняли с помощью кросс-валидации GridSearchCV. Сравнивали две модели Логистическая регрессия и древо решейний. Первая показала себя намного лучше, вторая даже на тренировочных данных не смогла достичнуть минимально необходимой метрики и к тому же она намного медленнее обучалась.\n",
    "\n",
    "В общем остановились на Логистической регрессии, её результаты нас устраивают."
   ]
  }
 ],
 "metadata": {
  "ExecuteTimeLog": [
   {
    "duration": 569,
    "start_time": "2023-10-02T16:06:03.869Z"
   },
   {
    "duration": 3351,
    "start_time": "2023-10-02T16:06:22.441Z"
   },
   {
    "duration": 84207,
    "start_time": "2023-10-02T16:06:32.998Z"
   },
   {
    "duration": 887,
    "start_time": "2023-10-02T16:09:38.794Z"
   },
   {
    "duration": 83503,
    "start_time": "2023-10-02T16:09:41.177Z"
   },
   {
    "duration": 30,
    "start_time": "2023-10-02T16:31:49.452Z"
   },
   {
    "duration": 337168,
    "start_time": "2023-10-02T16:31:50.966Z"
   },
   {
    "duration": 842,
    "start_time": "2023-10-02T17:32:50.448Z"
   },
   {
    "duration": 83034,
    "start_time": "2023-10-02T17:32:53.629Z"
   },
   {
    "duration": 253,
    "start_time": "2023-10-02T18:20:42.889Z"
   },
   {
    "duration": 1410,
    "start_time": "2023-10-02T18:20:53.001Z"
   },
   {
    "duration": 34603,
    "start_time": "2023-10-02T18:21:08.009Z"
   },
   {
    "duration": 456,
    "start_time": "2023-10-03T10:52:59.535Z"
   },
   {
    "duration": 2934,
    "start_time": "2023-10-03T10:53:02.081Z"
   },
   {
    "duration": 37,
    "start_time": "2023-10-03T10:53:20.589Z"
   },
   {
    "duration": 26,
    "start_time": "2023-10-03T11:13:22.999Z"
   },
   {
    "duration": 1080,
    "start_time": "2023-10-03T11:20:45.191Z"
   },
   {
    "duration": 111940,
    "start_time": "2023-10-03T11:20:47.646Z"
   },
   {
    "duration": 15,
    "start_time": "2023-10-03T11:25:31.608Z"
   },
   {
    "duration": 17,
    "start_time": "2023-10-03T11:25:44.101Z"
   },
   {
    "duration": 34,
    "start_time": "2023-10-03T11:29:36.807Z"
   },
   {
    "duration": 10,
    "start_time": "2023-10-03T11:29:40.655Z"
   },
   {
    "duration": 40,
    "start_time": "2023-10-03T11:29:58.577Z"
   },
   {
    "duration": 35,
    "start_time": "2023-10-03T11:30:06.824Z"
   },
   {
    "duration": 238,
    "start_time": "2023-10-03T11:30:28.931Z"
   },
   {
    "duration": 239,
    "start_time": "2023-10-03T11:30:41.323Z"
   },
   {
    "duration": 225,
    "start_time": "2023-10-03T11:30:48.155Z"
   },
   {
    "duration": 238,
    "start_time": "2023-10-03T11:31:46.927Z"
   },
   {
    "duration": 228,
    "start_time": "2023-10-03T11:32:01.451Z"
   },
   {
    "duration": 257,
    "start_time": "2023-10-03T11:32:05.895Z"
   },
   {
    "duration": 429,
    "start_time": "2023-10-03T11:32:36.578Z"
   },
   {
    "duration": 1226,
    "start_time": "2023-10-03T11:32:37.181Z"
   },
   {
    "duration": 40,
    "start_time": "2023-10-03T11:32:38.413Z"
   },
   {
    "duration": 16,
    "start_time": "2023-10-03T11:32:38.934Z"
   },
   {
    "duration": 286,
    "start_time": "2023-10-03T11:32:41.698Z"
   },
   {
    "duration": 41,
    "start_time": "2023-10-03T11:32:44.305Z"
   },
   {
    "duration": 19,
    "start_time": "2023-10-03T11:34:01.851Z"
   },
   {
    "duration": 273,
    "start_time": "2023-10-03T11:34:03.907Z"
   },
   {
    "duration": 12,
    "start_time": "2023-10-03T11:34:05.486Z"
   },
   {
    "duration": 240,
    "start_time": "2023-10-03T11:34:07.407Z"
   },
   {
    "duration": 42,
    "start_time": "2023-10-03T11:34:45.283Z"
   },
   {
    "duration": 6,
    "start_time": "2023-10-03T11:40:30.829Z"
   },
   {
    "duration": 1138,
    "start_time": "2023-10-03T11:51:55.384Z"
   },
   {
    "duration": 210,
    "start_time": "2023-10-03T11:52:14.078Z"
   },
   {
    "duration": 8,
    "start_time": "2023-10-03T11:52:52.392Z"
   },
   {
    "duration": 113556,
    "start_time": "2023-10-03T11:53:01.626Z"
   },
   {
    "duration": 4,
    "start_time": "2023-10-03T12:00:07.286Z"
   },
   {
    "duration": 194,
    "start_time": "2023-10-03T12:00:07.292Z"
   },
   {
    "duration": 3,
    "start_time": "2023-10-03T12:00:11.384Z"
   },
   {
    "duration": 62,
    "start_time": "2023-10-03T12:00:14.934Z"
   },
   {
    "duration": 21,
    "start_time": "2023-10-03T12:00:19.035Z"
   },
   {
    "duration": 1830,
    "start_time": "2023-10-03T12:01:22.904Z"
   },
   {
    "duration": 1387,
    "start_time": "2023-10-03T12:01:24.736Z"
   },
   {
    "duration": 46,
    "start_time": "2023-10-03T12:01:26.125Z"
   },
   {
    "duration": 45,
    "start_time": "2023-10-03T12:01:26.175Z"
   },
   {
    "duration": 324,
    "start_time": "2023-10-03T12:01:26.243Z"
   },
   {
    "duration": 52,
    "start_time": "2023-10-03T12:01:26.569Z"
   },
   {
    "duration": 38,
    "start_time": "2023-10-03T12:01:26.630Z"
   },
   {
    "duration": 34,
    "start_time": "2023-10-03T12:01:26.671Z"
   },
   {
    "duration": 191,
    "start_time": "2023-10-03T12:01:26.707Z"
   },
   {
    "duration": 4,
    "start_time": "2023-10-03T12:01:26.900Z"
   },
   {
    "duration": 127062,
    "start_time": "2023-10-03T12:01:26.906Z"
   },
   {
    "duration": 4,
    "start_time": "2023-10-03T12:03:33.971Z"
   },
   {
    "duration": 155,
    "start_time": "2023-10-03T12:03:33.978Z"
   },
   {
    "duration": 10,
    "start_time": "2023-10-03T12:03:34.136Z"
   },
   {
    "duration": 5,
    "start_time": "2023-10-03T12:03:52.994Z"
   },
   {
    "duration": 6,
    "start_time": "2023-10-03T12:04:01.562Z"
   },
   {
    "duration": 18,
    "start_time": "2023-10-03T12:04:05.503Z"
   },
   {
    "duration": 1726,
    "start_time": "2023-10-03T12:05:12.195Z"
   },
   {
    "duration": 1466,
    "start_time": "2023-10-03T12:05:13.930Z"
   },
   {
    "duration": 45,
    "start_time": "2023-10-03T12:05:15.398Z"
   },
   {
    "duration": 36,
    "start_time": "2023-10-03T12:05:15.445Z"
   },
   {
    "duration": 371,
    "start_time": "2023-10-03T12:05:15.486Z"
   },
   {
    "duration": 33,
    "start_time": "2023-10-03T12:05:15.859Z"
   },
   {
    "duration": 49,
    "start_time": "2023-10-03T12:05:15.895Z"
   },
   {
    "duration": 44,
    "start_time": "2023-10-03T12:05:15.949Z"
   },
   {
    "duration": 306,
    "start_time": "2023-10-03T12:05:15.995Z"
   },
   {
    "duration": 4,
    "start_time": "2023-10-03T12:05:16.302Z"
   },
   {
    "duration": 125917,
    "start_time": "2023-10-03T12:05:16.308Z"
   },
   {
    "duration": 4,
    "start_time": "2023-10-03T12:07:22.240Z"
   },
   {
    "duration": 87,
    "start_time": "2023-10-03T12:07:22.249Z"
   },
   {
    "duration": 14,
    "start_time": "2023-10-03T12:07:22.349Z"
   },
   {
    "duration": 21,
    "start_time": "2023-10-03T12:08:18.837Z"
   },
   {
    "duration": 146,
    "start_time": "2023-10-03T12:08:30.251Z"
   },
   {
    "duration": 4,
    "start_time": "2023-10-03T12:08:34.204Z"
   },
   {
    "duration": 34,
    "start_time": "2023-10-03T12:21:17.868Z"
   },
   {
    "duration": 2149,
    "start_time": "2023-10-03T12:26:01.993Z"
   },
   {
    "duration": 1047,
    "start_time": "2023-10-03T12:26:16.389Z"
   },
   {
    "duration": 11,
    "start_time": "2023-10-03T12:26:24.406Z"
   },
   {
    "duration": 7,
    "start_time": "2023-10-03T12:26:27.544Z"
   },
   {
    "duration": 30,
    "start_time": "2023-10-03T12:27:09.498Z"
   },
   {
    "duration": 971,
    "start_time": "2023-10-03T12:28:33.442Z"
   },
   {
    "duration": 79,
    "start_time": "2023-10-03T12:29:50.177Z"
   },
   {
    "duration": 3371,
    "start_time": "2023-10-03T12:30:14.889Z"
   },
   {
    "duration": 113,
    "start_time": "2023-10-03T12:30:29.511Z"
   },
   {
    "duration": 85,
    "start_time": "2023-10-03T12:31:56.673Z"
   },
   {
    "duration": 147460,
    "start_time": "2023-10-03T12:32:14.938Z"
   },
   {
    "duration": 0,
    "start_time": "2023-10-03T12:34:42.401Z"
   },
   {
    "duration": 8,
    "start_time": "2023-10-03T12:34:49.259Z"
   },
   {
    "duration": 13,
    "start_time": "2023-10-03T12:35:54.411Z"
   },
   {
    "duration": 7,
    "start_time": "2023-10-03T12:36:05.991Z"
   },
   {
    "duration": 2244,
    "start_time": "2023-10-03T12:36:27.543Z"
   },
   {
    "duration": 1266,
    "start_time": "2023-10-03T12:36:29.789Z"
   },
   {
    "duration": 37,
    "start_time": "2023-10-03T12:36:31.057Z"
   },
   {
    "duration": 68,
    "start_time": "2023-10-03T12:36:31.110Z"
   },
   {
    "duration": 307,
    "start_time": "2023-10-03T12:36:31.180Z"
   },
   {
    "duration": 33,
    "start_time": "2023-10-03T12:36:31.489Z"
   },
   {
    "duration": 34,
    "start_time": "2023-10-03T12:36:31.526Z"
   },
   {
    "duration": 75,
    "start_time": "2023-10-03T12:36:31.562Z"
   },
   {
    "duration": 243,
    "start_time": "2023-10-03T12:36:31.639Z"
   },
   {
    "duration": 4,
    "start_time": "2023-10-03T12:36:31.883Z"
   },
   {
    "duration": 114041,
    "start_time": "2023-10-03T12:36:31.889Z"
   },
   {
    "duration": 13,
    "start_time": "2023-10-03T12:38:25.932Z"
   },
   {
    "duration": 95,
    "start_time": "2023-10-03T12:38:25.947Z"
   },
   {
    "duration": 158,
    "start_time": "2023-10-03T12:39:00.875Z"
   },
   {
    "duration": 14,
    "start_time": "2023-10-03T12:39:04.973Z"
   },
   {
    "duration": 5,
    "start_time": "2023-10-03T12:39:10.882Z"
   },
   {
    "duration": 29,
    "start_time": "2023-10-03T12:39:15.709Z"
   },
   {
    "duration": 18,
    "start_time": "2023-10-03T12:39:18.841Z"
   },
   {
    "duration": 16,
    "start_time": "2023-10-03T12:41:11.764Z"
   },
   {
    "duration": 4,
    "start_time": "2023-10-03T12:41:31.166Z"
   },
   {
    "duration": 19,
    "start_time": "2023-10-03T12:41:37.541Z"
   },
   {
    "duration": 17,
    "start_time": "2023-10-03T12:41:52.204Z"
   },
   {
    "duration": 49,
    "start_time": "2023-10-03T12:42:18.532Z"
   },
   {
    "duration": 18,
    "start_time": "2023-10-03T12:42:21.958Z"
   },
   {
    "duration": 11,
    "start_time": "2023-10-03T12:42:30.335Z"
   },
   {
    "duration": 957,
    "start_time": "2023-10-03T12:42:50.735Z"
   },
   {
    "duration": 4,
    "start_time": "2023-10-03T12:44:24.752Z"
   },
   {
    "duration": 1120,
    "start_time": "2023-10-03T12:44:25.537Z"
   },
   {
    "duration": 35,
    "start_time": "2023-10-03T12:44:26.660Z"
   },
   {
    "duration": 9,
    "start_time": "2023-10-03T12:44:27.938Z"
   },
   {
    "duration": 273,
    "start_time": "2023-10-03T12:44:31.057Z"
   },
   {
    "duration": 36,
    "start_time": "2023-10-03T12:44:32.243Z"
   },
   {
    "duration": 19,
    "start_time": "2023-10-03T12:44:33.533Z"
   },
   {
    "duration": 33,
    "start_time": "2023-10-03T12:44:36.352Z"
   },
   {
    "duration": 6,
    "start_time": "2023-10-03T12:44:38.308Z"
   },
   {
    "duration": 4,
    "start_time": "2023-10-03T12:44:41.240Z"
   },
   {
    "duration": 4891,
    "start_time": "2023-10-03T12:44:43.796Z"
   },
   {
    "duration": 129,
    "start_time": "2023-10-03T12:44:51.355Z"
   },
   {
    "duration": 5761,
    "start_time": "2023-10-03T12:45:59.591Z"
   },
   {
    "duration": 3516,
    "start_time": "2023-10-03T12:46:05.356Z"
   },
   {
    "duration": 39,
    "start_time": "2023-10-03T12:46:08.874Z"
   },
   {
    "duration": 22,
    "start_time": "2023-10-03T12:46:08.914Z"
   },
   {
    "duration": 395,
    "start_time": "2023-10-03T12:46:08.938Z"
   },
   {
    "duration": 33,
    "start_time": "2023-10-03T12:46:09.339Z"
   },
   {
    "duration": 20,
    "start_time": "2023-10-03T12:46:09.374Z"
   },
   {
    "duration": 41,
    "start_time": "2023-10-03T12:46:09.411Z"
   },
   {
    "duration": 303,
    "start_time": "2023-10-03T12:46:09.454Z"
   },
   {
    "duration": 4,
    "start_time": "2023-10-03T12:46:09.759Z"
   },
   {
    "duration": 2956,
    "start_time": "2023-10-03T12:46:09.765Z"
   },
   {
    "duration": 2173,
    "start_time": "2023-10-03T12:46:17.200Z"
   },
   {
    "duration": 13,
    "start_time": "2023-10-03T12:46:50.634Z"
   },
   {
    "duration": 117,
    "start_time": "2023-10-03T12:46:53.575Z"
   },
   {
    "duration": 174,
    "start_time": "2023-10-03T12:46:58.587Z"
   },
   {
    "duration": 197,
    "start_time": "2023-10-03T12:47:04.851Z"
   },
   {
    "duration": 225,
    "start_time": "2023-10-03T12:47:16.059Z"
   },
   {
    "duration": 4,
    "start_time": "2023-10-03T12:47:19.983Z"
   },
   {
    "duration": 157,
    "start_time": "2023-10-03T12:47:21.044Z"
   },
   {
    "duration": 182,
    "start_time": "2023-10-03T12:47:29.217Z"
   },
   {
    "duration": 210,
    "start_time": "2023-10-03T12:47:32.287Z"
   },
   {
    "duration": 5,
    "start_time": "2023-10-03T12:47:38.055Z"
   },
   {
    "duration": 5,
    "start_time": "2023-10-03T12:47:46.055Z"
   },
   {
    "duration": 3257,
    "start_time": "2023-10-03T12:48:16.630Z"
   },
   {
    "duration": 3475,
    "start_time": "2023-10-03T12:48:19.890Z"
   },
   {
    "duration": 35,
    "start_time": "2023-10-03T12:48:23.367Z"
   },
   {
    "duration": 40,
    "start_time": "2023-10-03T12:48:23.403Z"
   },
   {
    "duration": 279,
    "start_time": "2023-10-03T12:48:23.445Z"
   },
   {
    "duration": 34,
    "start_time": "2023-10-03T12:48:23.725Z"
   },
   {
    "duration": 26,
    "start_time": "2023-10-03T12:48:23.761Z"
   },
   {
    "duration": 51,
    "start_time": "2023-10-03T12:48:23.790Z"
   },
   {
    "duration": 196,
    "start_time": "2023-10-03T12:48:23.843Z"
   },
   {
    "duration": 13,
    "start_time": "2023-10-03T12:48:24.042Z"
   },
   {
    "duration": 2385,
    "start_time": "2023-10-03T12:48:24.057Z"
   },
   {
    "duration": 17,
    "start_time": "2023-10-03T12:48:26.444Z"
   },
   {
    "duration": 1156,
    "start_time": "2023-10-03T12:48:26.463Z"
   },
   {
    "duration": 14,
    "start_time": "2023-10-03T12:48:27.623Z"
   },
   {
    "duration": 5,
    "start_time": "2023-10-03T12:48:42.303Z"
   },
   {
    "duration": 6908,
    "start_time": "2023-10-03T12:48:59.509Z"
   },
   {
    "duration": 3267,
    "start_time": "2023-10-03T12:49:06.419Z"
   },
   {
    "duration": 40,
    "start_time": "2023-10-03T12:49:09.688Z"
   },
   {
    "duration": 23,
    "start_time": "2023-10-03T12:49:09.730Z"
   },
   {
    "duration": 297,
    "start_time": "2023-10-03T12:49:09.755Z"
   },
   {
    "duration": 30,
    "start_time": "2023-10-03T12:49:10.053Z"
   },
   {
    "duration": 41,
    "start_time": "2023-10-03T12:49:10.084Z"
   },
   {
    "duration": 41,
    "start_time": "2023-10-03T12:49:10.127Z"
   },
   {
    "duration": 314,
    "start_time": "2023-10-03T12:49:10.170Z"
   },
   {
    "duration": 4,
    "start_time": "2023-10-03T12:49:10.488Z"
   },
   {
    "duration": 2438,
    "start_time": "2023-10-03T12:49:10.494Z"
   },
   {
    "duration": 5,
    "start_time": "2023-10-03T12:49:16.348Z"
   },
   {
    "duration": 1253,
    "start_time": "2023-10-03T12:49:20.441Z"
   },
   {
    "duration": 1582,
    "start_time": "2023-10-03T12:54:01.843Z"
   },
   {
    "duration": 2843,
    "start_time": "2023-10-03T12:54:03.427Z"
   },
   {
    "duration": 32,
    "start_time": "2023-10-03T12:54:06.272Z"
   },
   {
    "duration": 22,
    "start_time": "2023-10-03T12:54:06.306Z"
   },
   {
    "duration": 276,
    "start_time": "2023-10-03T12:54:06.331Z"
   },
   {
    "duration": 26,
    "start_time": "2023-10-03T12:54:06.608Z"
   },
   {
    "duration": 30,
    "start_time": "2023-10-03T12:54:06.635Z"
   },
   {
    "duration": 40,
    "start_time": "2023-10-03T12:54:06.667Z"
   },
   {
    "duration": 158,
    "start_time": "2023-10-03T12:54:06.709Z"
   },
   {
    "duration": 4,
    "start_time": "2023-10-03T12:54:06.869Z"
   },
   {
    "duration": 2126,
    "start_time": "2023-10-03T12:54:06.874Z"
   },
   {
    "duration": 39,
    "start_time": "2023-10-03T12:54:09.002Z"
   },
   {
    "duration": 1465,
    "start_time": "2023-10-03T12:57:18.262Z"
   },
   {
    "duration": 2799,
    "start_time": "2023-10-03T12:57:19.730Z"
   },
   {
    "duration": 36,
    "start_time": "2023-10-03T12:57:22.531Z"
   },
   {
    "duration": 58,
    "start_time": "2023-10-03T12:57:22.570Z"
   },
   {
    "duration": 274,
    "start_time": "2023-10-03T12:57:22.630Z"
   },
   {
    "duration": 26,
    "start_time": "2023-10-03T12:57:22.906Z"
   },
   {
    "duration": 87,
    "start_time": "2023-10-03T12:57:22.934Z"
   },
   {
    "duration": 77,
    "start_time": "2023-10-03T12:57:23.023Z"
   },
   {
    "duration": 263,
    "start_time": "2023-10-03T12:57:23.102Z"
   },
   {
    "duration": 3,
    "start_time": "2023-10-03T12:57:23.368Z"
   },
   {
    "duration": 101687,
    "start_time": "2023-10-03T12:57:23.373Z"
   },
   {
    "duration": 3,
    "start_time": "2023-10-03T12:59:05.063Z"
   },
   {
    "duration": 88,
    "start_time": "2023-10-03T12:59:05.068Z"
   },
   {
    "duration": 7,
    "start_time": "2023-10-03T12:59:21.259Z"
   },
   {
    "duration": 145,
    "start_time": "2023-10-03T12:59:29.766Z"
   },
   {
    "duration": 10,
    "start_time": "2023-10-03T12:59:35.161Z"
   },
   {
    "duration": 328,
    "start_time": "2023-10-03T13:00:43.816Z"
   },
   {
    "duration": 21,
    "start_time": "2023-10-03T13:00:48.013Z"
   },
   {
    "duration": 320,
    "start_time": "2023-10-03T13:01:13.636Z"
   },
   {
    "duration": 6,
    "start_time": "2023-10-03T13:01:20.259Z"
   },
   {
    "duration": 5156,
    "start_time": "2023-10-03T13:01:24.240Z"
   },
   {
    "duration": 3,
    "start_time": "2023-10-03T13:01:36.910Z"
   },
   {
    "duration": 1548,
    "start_time": "2023-10-03T13:01:58.720Z"
   },
   {
    "duration": 1139,
    "start_time": "2023-10-03T13:02:00.270Z"
   },
   {
    "duration": 47,
    "start_time": "2023-10-03T13:02:01.411Z"
   },
   {
    "duration": 55,
    "start_time": "2023-10-03T13:02:01.462Z"
   },
   {
    "duration": 397,
    "start_time": "2023-10-03T13:02:01.519Z"
   },
   {
    "duration": 44,
    "start_time": "2023-10-03T13:02:01.917Z"
   },
   {
    "duration": 72,
    "start_time": "2023-10-03T13:02:01.964Z"
   },
   {
    "duration": 62,
    "start_time": "2023-10-03T13:02:02.038Z"
   },
   {
    "duration": 142,
    "start_time": "2023-10-03T13:02:02.103Z"
   },
   {
    "duration": 7,
    "start_time": "2023-10-03T13:02:02.256Z"
   },
   {
    "duration": 98838,
    "start_time": "2023-10-03T13:02:02.266Z"
   },
   {
    "duration": 3,
    "start_time": "2023-10-03T13:03:41.106Z"
   },
   {
    "duration": 71,
    "start_time": "2023-10-03T13:03:41.110Z"
   },
   {
    "duration": 8,
    "start_time": "2023-10-03T13:03:41.183Z"
   },
   {
    "duration": 5,
    "start_time": "2023-10-03T13:04:13.860Z"
   },
   {
    "duration": 6119,
    "start_time": "2023-10-03T13:04:16.933Z"
   },
   {
    "duration": 59,
    "start_time": "2023-10-03T13:05:07.135Z"
   },
   {
    "duration": 1541,
    "start_time": "2023-10-03T13:05:45.355Z"
   },
   {
    "duration": 2873,
    "start_time": "2023-10-03T13:05:46.898Z"
   },
   {
    "duration": 34,
    "start_time": "2023-10-03T13:05:49.772Z"
   },
   {
    "duration": 28,
    "start_time": "2023-10-03T13:05:49.808Z"
   },
   {
    "duration": 287,
    "start_time": "2023-10-03T13:05:49.838Z"
   },
   {
    "duration": 45,
    "start_time": "2023-10-03T13:05:50.127Z"
   },
   {
    "duration": 24,
    "start_time": "2023-10-03T13:05:50.175Z"
   },
   {
    "duration": 74,
    "start_time": "2023-10-03T13:05:50.201Z"
   },
   {
    "duration": 286,
    "start_time": "2023-10-03T13:05:50.277Z"
   },
   {
    "duration": 3,
    "start_time": "2023-10-03T13:05:50.565Z"
   },
   {
    "duration": 99820,
    "start_time": "2023-10-03T13:05:50.570Z"
   },
   {
    "duration": 4,
    "start_time": "2023-10-03T13:07:30.392Z"
   },
   {
    "duration": 128,
    "start_time": "2023-10-03T13:07:30.398Z"
   },
   {
    "duration": 7645,
    "start_time": "2023-10-03T13:07:30.529Z"
   },
   {
    "duration": 4,
    "start_time": "2023-10-03T13:08:09.358Z"
   },
   {
    "duration": 151,
    "start_time": "2023-10-03T13:09:37.327Z"
   },
   {
    "duration": 1605,
    "start_time": "2023-10-03T13:11:10.732Z"
   },
   {
    "duration": 1246,
    "start_time": "2023-10-03T13:11:12.339Z"
   },
   {
    "duration": 34,
    "start_time": "2023-10-03T13:11:13.587Z"
   },
   {
    "duration": 43,
    "start_time": "2023-10-03T13:11:13.623Z"
   },
   {
    "duration": 309,
    "start_time": "2023-10-03T13:11:13.669Z"
   },
   {
    "duration": 28,
    "start_time": "2023-10-03T13:11:13.980Z"
   },
   {
    "duration": 46,
    "start_time": "2023-10-03T13:11:14.009Z"
   },
   {
    "duration": 60,
    "start_time": "2023-10-03T13:11:14.058Z"
   },
   {
    "duration": 238,
    "start_time": "2023-10-03T13:11:14.120Z"
   },
   {
    "duration": 4,
    "start_time": "2023-10-03T13:11:14.360Z"
   },
   {
    "duration": 99655,
    "start_time": "2023-10-03T13:11:14.366Z"
   },
   {
    "duration": 3,
    "start_time": "2023-10-03T13:12:54.023Z"
   },
   {
    "duration": 67,
    "start_time": "2023-10-03T13:12:54.028Z"
   },
   {
    "duration": 164,
    "start_time": "2023-10-03T13:12:54.098Z"
   },
   {
    "duration": 0,
    "start_time": "2023-10-03T13:12:54.264Z"
   },
   {
    "duration": 18414,
    "start_time": "2023-10-03T13:15:56.958Z"
   },
   {
    "duration": 14,
    "start_time": "2023-10-03T13:16:19.691Z"
   },
   {
    "duration": 51,
    "start_time": "2023-10-03T13:16:59.523Z"
   },
   {
    "duration": 35,
    "start_time": "2023-10-03T13:18:09.907Z"
   },
   {
    "duration": 21,
    "start_time": "2023-10-03T13:18:20.705Z"
   },
   {
    "duration": 1620,
    "start_time": "2023-10-09T10:10:12.863Z"
   },
   {
    "duration": 3461,
    "start_time": "2023-10-09T10:10:14.488Z"
   },
   {
    "duration": 35,
    "start_time": "2023-10-09T10:10:17.950Z"
   },
   {
    "duration": 54,
    "start_time": "2023-10-09T10:10:17.987Z"
   },
   {
    "duration": 327,
    "start_time": "2023-10-09T10:10:18.044Z"
   },
   {
    "duration": 41,
    "start_time": "2023-10-09T10:10:18.373Z"
   },
   {
    "duration": 29,
    "start_time": "2023-10-09T10:10:18.416Z"
   },
   {
    "duration": 43,
    "start_time": "2023-10-09T10:10:18.447Z"
   },
   {
    "duration": 166,
    "start_time": "2023-10-09T10:10:18.492Z"
   },
   {
    "duration": 4,
    "start_time": "2023-10-09T10:10:18.660Z"
   },
   {
    "duration": 108949,
    "start_time": "2023-10-09T10:10:18.667Z"
   },
   {
    "duration": 3,
    "start_time": "2023-10-09T10:12:07.621Z"
   },
   {
    "duration": 170,
    "start_time": "2023-10-09T10:12:07.628Z"
   },
   {
    "duration": 50,
    "start_time": "2023-10-09T10:19:39.876Z"
   },
   {
    "duration": 10057,
    "start_time": "2023-10-09T10:19:41.528Z"
   },
   {
    "duration": 435823,
    "start_time": "2023-10-09T10:20:12.438Z"
   },
   {
    "duration": 9398,
    "start_time": "2023-10-09T10:28:05.327Z"
   },
   {
    "duration": 62518,
    "start_time": "2023-10-09T10:28:51.129Z"
   },
   {
    "duration": 220,
    "start_time": "2023-10-09T10:33:45.679Z"
   },
   {
    "duration": 4,
    "start_time": "2023-10-09T10:33:50.085Z"
   },
   {
    "duration": 1610,
    "start_time": "2023-10-09T13:14:38.079Z"
   },
   {
    "duration": 1227,
    "start_time": "2023-10-09T13:14:39.691Z"
   },
   {
    "duration": 34,
    "start_time": "2023-10-09T13:14:40.922Z"
   },
   {
    "duration": 31,
    "start_time": "2023-10-09T13:14:40.958Z"
   },
   {
    "duration": 273,
    "start_time": "2023-10-09T13:14:40.991Z"
   },
   {
    "duration": 41,
    "start_time": "2023-10-09T13:14:41.266Z"
   },
   {
    "duration": 26,
    "start_time": "2023-10-09T13:14:41.310Z"
   },
   {
    "duration": 34,
    "start_time": "2023-10-09T13:14:41.338Z"
   },
   {
    "duration": 255,
    "start_time": "2023-10-09T13:14:41.374Z"
   },
   {
    "duration": 4,
    "start_time": "2023-10-09T13:14:41.631Z"
   },
   {
    "duration": 108246,
    "start_time": "2023-10-09T13:14:41.637Z"
   },
   {
    "duration": 3,
    "start_time": "2023-10-09T13:16:29.885Z"
   },
   {
    "duration": 74,
    "start_time": "2023-10-09T13:16:29.889Z"
   },
   {
    "duration": 20,
    "start_time": "2023-10-09T13:16:29.966Z"
   },
   {
    "duration": 7652,
    "start_time": "2023-10-09T13:16:29.987Z"
   },
   {
    "duration": 1643302,
    "start_time": "2023-10-09T13:16:37.641Z"
   },
   {
    "duration": 18,
    "start_time": "2023-10-09T13:44:00.944Z"
   },
   {
    "duration": 73,
    "start_time": "2023-10-09T13:44:00.964Z"
   },
   {
    "duration": 35315576,
    "start_time": "2023-10-09T13:44:01.039Z"
   },
   {
    "duration": 13,
    "start_time": "2023-10-09T23:32:36.617Z"
   },
   {
    "duration": 1713,
    "start_time": "2023-10-10T07:34:47.689Z"
   },
   {
    "duration": 2269,
    "start_time": "2023-10-10T07:34:49.404Z"
   },
   {
    "duration": 20,
    "start_time": "2023-10-10T07:34:51.674Z"
   },
   {
    "duration": 32,
    "start_time": "2023-10-10T07:34:51.696Z"
   },
   {
    "duration": 248,
    "start_time": "2023-10-10T07:34:51.730Z"
   },
   {
    "duration": 18,
    "start_time": "2023-10-10T07:34:51.980Z"
   },
   {
    "duration": 68,
    "start_time": "2023-10-10T07:34:51.999Z"
   },
   {
    "duration": 47,
    "start_time": "2023-10-10T07:34:52.068Z"
   },
   {
    "duration": 271,
    "start_time": "2023-10-10T07:34:52.116Z"
   },
   {
    "duration": 35,
    "start_time": "2023-10-10T07:34:52.388Z"
   },
   {
    "duration": 83621,
    "start_time": "2023-10-10T07:34:52.424Z"
   },
   {
    "duration": 2,
    "start_time": "2023-10-10T07:36:16.047Z"
   },
   {
    "duration": 39,
    "start_time": "2023-10-10T07:36:16.051Z"
   },
   {
    "duration": 5606,
    "start_time": "2023-10-10T07:37:38.991Z"
   },
   {
    "duration": 1292651,
    "start_time": "2023-10-10T07:37:44.598Z"
   },
   {
    "duration": 14,
    "start_time": "2023-10-10T07:59:17.250Z"
   },
   {
    "duration": 1338,
    "start_time": "2023-10-10T09:37:18.636Z"
   },
   {
    "duration": 957,
    "start_time": "2023-10-10T09:37:19.975Z"
   },
   {
    "duration": 24,
    "start_time": "2023-10-10T09:37:20.934Z"
   },
   {
    "duration": 20,
    "start_time": "2023-10-10T09:37:20.960Z"
   },
   {
    "duration": 260,
    "start_time": "2023-10-10T09:37:20.982Z"
   },
   {
    "duration": 29,
    "start_time": "2023-10-10T09:37:21.244Z"
   },
   {
    "duration": 20,
    "start_time": "2023-10-10T09:37:21.275Z"
   },
   {
    "duration": 45,
    "start_time": "2023-10-10T09:37:21.297Z"
   },
   {
    "duration": 232,
    "start_time": "2023-10-10T09:37:21.343Z"
   },
   {
    "duration": 4,
    "start_time": "2023-10-10T09:37:21.576Z"
   },
   {
    "duration": 96044,
    "start_time": "2023-10-10T09:37:21.581Z"
   },
   {
    "duration": 3,
    "start_time": "2023-10-10T09:38:57.626Z"
   },
   {
    "duration": 37,
    "start_time": "2023-10-10T09:38:57.639Z"
   },
   {
    "duration": 3,
    "start_time": "2023-10-10T09:38:57.679Z"
   },
   {
    "duration": 5942,
    "start_time": "2023-10-10T09:38:57.684Z"
   },
   {
    "duration": 1362139,
    "start_time": "2023-10-10T09:39:03.628Z"
   },
   {
    "duration": 14,
    "start_time": "2023-10-10T10:01:45.769Z"
   },
   {
    "duration": 5,
    "start_time": "2023-10-10T11:34:07.423Z"
   },
   {
    "duration": 1069454,
    "start_time": "2023-10-10T11:39:10.532Z"
   },
   {
    "duration": 52,
    "start_time": "2023-10-10T11:56:59.988Z"
   },
   {
    "duration": 657288,
    "start_time": "2023-10-10T12:19:07.556Z"
   },
   {
    "duration": 45,
    "start_time": "2023-10-10T12:30:04.846Z"
   },
   {
    "duration": 62,
    "start_time": "2023-10-10T12:30:55.728Z"
   },
   {
    "duration": 12917561,
    "start_time": "2023-10-10T12:33:00.226Z"
   },
   {
    "duration": 25,
    "start_time": "2023-10-10T16:08:17.789Z"
   },
   {
    "duration": 3,
    "start_time": "2023-10-10T16:08:28.527Z"
   },
   {
    "duration": 9134452,
    "start_time": "2023-10-10T16:09:07.279Z"
   },
   {
    "duration": 48,
    "start_time": "2023-10-10T18:41:21.733Z"
   },
   {
    "duration": 6,
    "start_time": "2023-10-10T18:42:25.424Z"
   },
   {
    "duration": 11,
    "start_time": "2023-10-10T18:44:45.624Z"
   },
   {
    "duration": 14,
    "start_time": "2023-10-10T18:44:47.793Z"
   },
   {
    "duration": 14,
    "start_time": "2023-10-10T18:44:49.484Z"
   },
   {
    "duration": 1665,
    "start_time": "2023-10-10T18:45:32.752Z"
   },
   {
    "duration": 1158,
    "start_time": "2023-10-10T18:45:34.418Z"
   },
   {
    "duration": 40,
    "start_time": "2023-10-10T18:45:35.593Z"
   },
   {
    "duration": 74,
    "start_time": "2023-10-10T18:45:35.634Z"
   },
   {
    "duration": 306,
    "start_time": "2023-10-10T18:45:35.710Z"
   },
   {
    "duration": 52,
    "start_time": "2023-10-10T18:45:36.017Z"
   },
   {
    "duration": 33,
    "start_time": "2023-10-10T18:45:36.071Z"
   },
   {
    "duration": 54,
    "start_time": "2023-10-10T18:45:36.106Z"
   },
   {
    "duration": 322,
    "start_time": "2023-10-10T18:45:36.162Z"
   },
   {
    "duration": 15,
    "start_time": "2023-10-10T18:45:36.486Z"
   },
   {
    "duration": 126761,
    "start_time": "2023-10-10T18:45:36.507Z"
   },
   {
    "duration": 2,
    "start_time": "2023-10-10T18:47:43.271Z"
   },
   {
    "duration": 47,
    "start_time": "2023-10-10T18:47:43.275Z"
   },
   {
    "duration": 8416,
    "start_time": "2023-10-10T18:47:43.325Z"
   },
   {
    "duration": 646173,
    "start_time": "2023-10-10T18:47:51.742Z"
   },
   {
    "duration": 0,
    "start_time": "2023-10-10T19:45:09.817Z"
   },
   {
    "duration": 0,
    "start_time": "2023-10-10T19:45:09.818Z"
   },
   {
    "duration": 0,
    "start_time": "2023-10-10T19:45:09.819Z"
   },
   {
    "duration": 0,
    "start_time": "2023-10-10T19:45:09.820Z"
   },
   {
    "duration": 0,
    "start_time": "2023-10-10T19:45:09.821Z"
   },
   {
    "duration": 0,
    "start_time": "2023-10-10T19:45:09.822Z"
   },
   {
    "duration": 0,
    "start_time": "2023-10-10T19:45:09.824Z"
   },
   {
    "duration": 0,
    "start_time": "2023-10-10T19:45:09.825Z"
   },
   {
    "duration": 0,
    "start_time": "2023-10-10T19:45:09.826Z"
   },
   {
    "duration": 0,
    "start_time": "2023-10-10T19:45:09.827Z"
   },
   {
    "duration": 1316,
    "start_time": "2023-10-10T19:47:38.688Z"
   },
   {
    "duration": 1026,
    "start_time": "2023-10-10T19:47:40.006Z"
   },
   {
    "duration": 56,
    "start_time": "2023-10-10T19:47:41.034Z"
   },
   {
    "duration": 13,
    "start_time": "2023-10-10T19:47:41.092Z"
   },
   {
    "duration": 302,
    "start_time": "2023-10-10T19:47:41.107Z"
   },
   {
    "duration": 23,
    "start_time": "2023-10-10T19:47:41.411Z"
   },
   {
    "duration": 44,
    "start_time": "2023-10-10T19:47:41.436Z"
   },
   {
    "duration": 26,
    "start_time": "2023-10-10T19:47:41.485Z"
   },
   {
    "duration": 212,
    "start_time": "2023-10-10T19:47:41.512Z"
   },
   {
    "duration": 3,
    "start_time": "2023-10-10T19:47:41.725Z"
   },
   {
    "duration": 98731,
    "start_time": "2023-10-10T19:47:41.729Z"
   },
   {
    "duration": 5,
    "start_time": "2023-10-10T19:49:20.470Z"
   },
   {
    "duration": 33,
    "start_time": "2023-10-10T19:49:20.476Z"
   },
   {
    "duration": 6766,
    "start_time": "2023-10-10T19:49:20.510Z"
   },
   {
    "duration": 1491095,
    "start_time": "2023-10-10T19:49:27.277Z"
   },
   {
    "duration": 2637990,
    "start_time": "2023-10-10T20:14:18.373Z"
   },
   {
    "duration": 23,
    "start_time": "2023-10-10T20:58:16.377Z"
   },
   {
    "duration": 10,
    "start_time": "2023-10-10T20:58:16.403Z"
   },
   {
    "duration": 2249,
    "start_time": "2023-10-10T21:44:20.416Z"
   },
   {
    "duration": 2657,
    "start_time": "2023-10-10T21:44:22.667Z"
   },
   {
    "duration": 45,
    "start_time": "2023-10-10T21:44:25.325Z"
   },
   {
    "duration": 17,
    "start_time": "2023-10-10T21:44:25.371Z"
   },
   {
    "duration": 240,
    "start_time": "2023-10-10T21:44:25.390Z"
   },
   {
    "duration": 46,
    "start_time": "2023-10-10T21:44:25.632Z"
   },
   {
    "duration": 10,
    "start_time": "2023-10-10T21:44:25.679Z"
   },
   {
    "duration": 29,
    "start_time": "2023-10-10T21:44:25.690Z"
   },
   {
    "duration": 249,
    "start_time": "2023-10-10T21:44:25.720Z"
   },
   {
    "duration": 3,
    "start_time": "2023-10-10T21:44:25.981Z"
   },
   {
    "duration": 668,
    "start_time": "2023-10-10T21:45:05.314Z"
   },
   {
    "duration": 7,
    "start_time": "2023-10-10T21:45:07.298Z"
   },
   {
    "duration": 1212,
    "start_time": "2023-10-11T06:06:26.140Z"
   },
   {
    "duration": 2248,
    "start_time": "2023-10-11T06:06:27.354Z"
   },
   {
    "duration": 22,
    "start_time": "2023-10-11T06:06:29.603Z"
   },
   {
    "duration": 59,
    "start_time": "2023-10-11T06:06:29.627Z"
   },
   {
    "duration": 259,
    "start_time": "2023-10-11T06:06:29.688Z"
   },
   {
    "duration": 19,
    "start_time": "2023-10-11T06:06:29.949Z"
   },
   {
    "duration": 119,
    "start_time": "2023-10-11T06:06:29.969Z"
   },
   {
    "duration": 90,
    "start_time": "2023-10-11T06:06:30.089Z"
   },
   {
    "duration": 2,
    "start_time": "2023-10-11T06:08:07.092Z"
   },
   {
    "duration": 31311,
    "start_time": "2023-10-11T06:08:13.424Z"
   },
   {
    "duration": 6,
    "start_time": "2023-10-11T06:09:28.969Z"
   },
   {
    "duration": 6,
    "start_time": "2023-10-11T06:10:15.938Z"
   },
   {
    "duration": 5,
    "start_time": "2023-10-11T06:15:04.680Z"
   },
   {
    "duration": 4,
    "start_time": "2023-10-11T06:15:12.448Z"
   },
   {
    "duration": 1146,
    "start_time": "2023-10-11T06:15:55.305Z"
   },
   {
    "duration": 890,
    "start_time": "2023-10-11T06:15:56.454Z"
   },
   {
    "duration": 24,
    "start_time": "2023-10-11T06:15:57.346Z"
   },
   {
    "duration": 23,
    "start_time": "2023-10-11T06:15:57.371Z"
   },
   {
    "duration": 234,
    "start_time": "2023-10-11T06:15:57.396Z"
   },
   {
    "duration": 29,
    "start_time": "2023-10-11T06:15:57.632Z"
   },
   {
    "duration": 12,
    "start_time": "2023-10-11T06:15:57.663Z"
   },
   {
    "duration": 18,
    "start_time": "2023-10-11T06:15:57.677Z"
   },
   {
    "duration": 4,
    "start_time": "2023-10-11T06:16:03.348Z"
   },
   {
    "duration": 720,
    "start_time": "2023-10-11T06:16:06.291Z"
   },
   {
    "duration": 646,
    "start_time": "2023-10-11T06:16:27.452Z"
   },
   {
    "duration": 438839,
    "start_time": "2023-10-11T06:16:30.764Z"
   },
   {
    "duration": 11,
    "start_time": "2023-10-11T06:23:49.604Z"
   },
   {
    "duration": 6,
    "start_time": "2023-10-11T06:25:14.579Z"
   },
   {
    "duration": 3,
    "start_time": "2023-10-11T06:26:44.452Z"
   },
   {
    "duration": 20,
    "start_time": "2023-10-11T06:26:47.531Z"
   },
   {
    "duration": 11,
    "start_time": "2023-10-11T06:32:10.878Z"
   },
   {
    "duration": 4,
    "start_time": "2023-10-11T06:32:19.178Z"
   },
   {
    "duration": 6673,
    "start_time": "2023-10-11T06:32:21.778Z"
   },
   {
    "duration": 4,
    "start_time": "2023-10-11T06:38:24.822Z"
   },
   {
    "duration": 2,
    "start_time": "2023-10-11T06:49:27.819Z"
   },
   {
    "duration": 1188,
    "start_time": "2023-10-11T06:51:47.570Z"
   },
   {
    "duration": 832,
    "start_time": "2023-10-11T06:51:48.760Z"
   },
   {
    "duration": 20,
    "start_time": "2023-10-11T06:51:49.594Z"
   },
   {
    "duration": 12,
    "start_time": "2023-10-11T06:51:49.615Z"
   },
   {
    "duration": 221,
    "start_time": "2023-10-11T06:51:49.639Z"
   },
   {
    "duration": 18,
    "start_time": "2023-10-11T06:51:49.862Z"
   },
   {
    "duration": 26,
    "start_time": "2023-10-11T06:51:49.881Z"
   },
   {
    "duration": 28,
    "start_time": "2023-10-11T06:51:49.908Z"
   },
   {
    "duration": 2,
    "start_time": "2023-10-11T06:51:49.937Z"
   },
   {
    "duration": 126,
    "start_time": "2023-10-11T06:51:49.941Z"
   },
   {
    "duration": 5,
    "start_time": "2023-10-11T06:51:50.069Z"
   },
   {
    "duration": 19,
    "start_time": "2023-10-11T06:51:50.076Z"
   },
   {
    "duration": 434150,
    "start_time": "2023-10-11T06:51:50.097Z"
   },
   {
    "duration": 5,
    "start_time": "2023-10-11T06:59:04.249Z"
   },
   {
    "duration": 4,
    "start_time": "2023-10-11T06:59:04.256Z"
   },
   {
    "duration": 23,
    "start_time": "2023-10-11T06:59:04.262Z"
   },
   {
    "duration": 4,
    "start_time": "2023-10-11T06:59:04.287Z"
   },
   {
    "duration": 6262,
    "start_time": "2023-10-11T06:59:04.292Z"
   },
   {
    "duration": 2,
    "start_time": "2023-10-11T06:59:10.555Z"
   },
   {
    "duration": 16,
    "start_time": "2023-10-11T06:59:10.559Z"
   },
   {
    "duration": 207,
    "start_time": "2023-10-11T07:05:43.629Z"
   },
   {
    "duration": 376389,
    "start_time": "2023-10-11T07:06:42.274Z"
   },
   {
    "duration": 14,
    "start_time": "2023-10-11T07:20:58.713Z"
   },
   {
    "duration": 1141,
    "start_time": "2023-10-11T07:21:17.686Z"
   },
   {
    "duration": 35,
    "start_time": "2023-10-11T07:21:32.149Z"
   },
   {
    "duration": 1216604,
    "start_time": "2023-10-11T07:21:39.421Z"
   },
   {
    "duration": 1243755,
    "start_time": "2023-10-11T07:50:07.783Z"
   },
   {
    "duration": 8,
    "start_time": "2023-10-11T08:15:42.761Z"
   },
   {
    "duration": 8,
    "start_time": "2023-10-11T08:16:22.798Z"
   },
   {
    "duration": 10,
    "start_time": "2023-10-11T08:46:08.883Z"
   },
   {
    "duration": 5,
    "start_time": "2023-10-11T08:47:32.626Z"
   },
   {
    "duration": 0,
    "start_time": "2023-10-11T08:49:40.582Z"
   },
   {
    "duration": 5,
    "start_time": "2023-10-11T08:49:46.390Z"
   },
   {
    "duration": 1252,
    "start_time": "2023-10-11T08:53:53.149Z"
   },
   {
    "duration": 860,
    "start_time": "2023-10-11T08:53:54.403Z"
   },
   {
    "duration": 21,
    "start_time": "2023-10-11T08:53:55.264Z"
   },
   {
    "duration": 12,
    "start_time": "2023-10-11T08:53:55.286Z"
   },
   {
    "duration": 240,
    "start_time": "2023-10-11T08:53:55.300Z"
   },
   {
    "duration": 16,
    "start_time": "2023-10-11T08:53:55.541Z"
   },
   {
    "duration": 30,
    "start_time": "2023-10-11T08:53:55.558Z"
   },
   {
    "duration": 18,
    "start_time": "2023-10-11T08:53:55.589Z"
   },
   {
    "duration": 6,
    "start_time": "2023-10-11T08:53:55.609Z"
   },
   {
    "duration": 219,
    "start_time": "2023-10-11T08:53:55.616Z"
   },
   {
    "duration": 5,
    "start_time": "2023-10-11T08:53:55.837Z"
   },
   {
    "duration": 424354,
    "start_time": "2023-10-11T08:53:55.843Z"
   },
   {
    "duration": 6,
    "start_time": "2023-10-11T09:01:00.198Z"
   },
   {
    "duration": 44,
    "start_time": "2023-10-11T09:01:00.206Z"
   },
   {
    "duration": 61,
    "start_time": "2023-10-11T09:01:00.251Z"
   },
   {
    "duration": 68,
    "start_time": "2023-10-11T09:01:00.313Z"
   },
   {
    "duration": 49,
    "start_time": "2023-10-11T09:01:00.383Z"
   },
   {
    "duration": 40,
    "start_time": "2023-10-11T09:01:00.433Z"
   },
   {
    "duration": 37,
    "start_time": "2023-10-11T09:01:00.474Z"
   },
   {
    "duration": 367362,
    "start_time": "2023-10-11T09:01:00.512Z"
   },
   {
    "duration": 2,
    "start_time": "2023-10-11T09:07:07.876Z"
   },
   {
    "duration": 16,
    "start_time": "2023-10-11T09:07:07.879Z"
   },
   {
    "duration": 1169866,
    "start_time": "2023-10-11T09:07:07.896Z"
   },
   {
    "duration": 3,
    "start_time": "2023-10-11T09:26:37.763Z"
   },
   {
    "duration": 1148,
    "start_time": "2023-10-11T09:26:37.767Z"
   },
   {
    "duration": 8,
    "start_time": "2023-10-11T09:26:38.917Z"
   }
  ],
  "kernelspec": {
   "display_name": "Python 3 (ipykernel)",
   "language": "python",
   "name": "python3"
  },
  "language_info": {
   "codemirror_mode": {
    "name": "ipython",
    "version": 3
   },
   "file_extension": ".py",
   "mimetype": "text/x-python",
   "name": "python",
   "nbconvert_exporter": "python",
   "pygments_lexer": "ipython3",
   "version": "3.9.18"
  },
  "toc": {
   "base_numbering": 1,
   "nav_menu": {
    "height": "118.635px",
    "width": "215.969px"
   },
   "number_sections": true,
   "sideBar": true,
   "skip_h1_title": true,
   "title_cell": "Содержание",
   "title_sidebar": "Contents",
   "toc_cell": true,
   "toc_position": {
    "height": "calc(100% - 180px)",
    "left": "10px",
    "top": "150px",
    "width": "302.391px"
   },
   "toc_section_display": true,
   "toc_window_display": true
  },
  "varInspector": {
   "cols": {
    "lenName": 16,
    "lenType": 16,
    "lenVar": 40
   },
   "kernels_config": {
    "python": {
     "delete_cmd_postfix": "",
     "delete_cmd_prefix": "del ",
     "library": "var_list.py",
     "varRefreshCmd": "print(var_dic_list())"
    },
    "r": {
     "delete_cmd_postfix": ") ",
     "delete_cmd_prefix": "rm(",
     "library": "var_list.r",
     "varRefreshCmd": "cat(var_dic_list()) "
    }
   },
   "types_to_exclude": [
    "module",
    "function",
    "builtin_function_or_method",
    "instance",
    "_Feature"
   ],
   "window_display": false
  }
 },
 "nbformat": 4,
 "nbformat_minor": 4
}
